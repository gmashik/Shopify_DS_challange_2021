{
 "cells": [
  {
   "cell_type": "code",
   "execution_count": 71,
   "id": "743a5457",
   "metadata": {},
   "outputs": [],
   "source": [
    "import pandas as pd\n",
    "import numpy as np\n",
    "import matplotlib.pyplot as plt\n",
    "import seaborn as sns\n",
    "from scipy.stats import norm"
   ]
  },
  {
   "cell_type": "markdown",
   "id": "4113b21f",
   "metadata": {},
   "source": [
    "## Question 1\n",
    "On Shopify, we have exactly 100 sneaker shops, and each of these shops sells only one model of shoe. We want to do some analysis of the average order value (AOV). When we look at orders data over a 30 day window, we naively calculate an AOV of $3145.13. Given that we know these shops are selling sneakers, a relatively affordable item, something seems wrong with our analysis. \n",
    "\n",
    "a.\tThink about what could be going wrong with our calculation. Think about a better way to evaluate this data. \\\n",
    "b.\tWhat metric would you report for this dataset? \\\n",
    "c.\tWhat is its value? \n",
    "## Solution:\n",
    "**1(a)** We can observe that the average order value is $3145.13$ which is erroneous. The minimum order amount is 90 and the maximum order value is 704000. The standard deviation is $41282.54$ which extremely high and this is an indication tha something wrong in the observation which is misleading the average value. So, I did some analysis. It can be seen that the order amount is highly skwed towards the lower value (less than $30000$). However, we did found some ouliers ($704000$,$154350$,$102900$, $77175$, $51450$). Among these values $704000$ occured 17 times. So, apparantly these values are affecting the average value. So, **mean is not the perfect metric for this dataset since it is more sensitive to the outliers .** So, two different alternative approach can be used.\n",
    "### Approach 1 (Immediate approach):\n",
    "**1(b) and 1(c)** While taking the mean is misleading. We can use **median** for this data. The median value for this data is $284.00$. It is our observation that 99.1 percent order values are less than 26000. and the mean is $400.04$ for that case. So, keeping this in my consideration **I would like to report the median for this data set and the value is $284.00$.**  \n",
    "\n",
    "### Approach 2 (Alternative approach):\n",
    "We can isolate the outliers. It might not be a very good idea to remove or isolate the outliers since those data might have some other important insight. So, we can isolate the ouliers from the original dattaset and make statistical analysis for both the data to get any meaningful insight from our data.\n",
    "I have shown some similar analysis below."
   ]
  },
  {
   "cell_type": "code",
   "execution_count": 2,
   "id": "7b5ae857",
   "metadata": {},
   "outputs": [],
   "source": [
    "df=pd.read_csv('2019 Winter Data Science Intern Challenge Data Set - Sheet1.csv')"
   ]
  },
  {
   "cell_type": "code",
   "execution_count": 3,
   "id": "3389d8fe",
   "metadata": {},
   "outputs": [
    {
     "data": {
      "text/html": [
       "<div>\n",
       "<style scoped>\n",
       "    .dataframe tbody tr th:only-of-type {\n",
       "        vertical-align: middle;\n",
       "    }\n",
       "\n",
       "    .dataframe tbody tr th {\n",
       "        vertical-align: top;\n",
       "    }\n",
       "\n",
       "    .dataframe thead th {\n",
       "        text-align: right;\n",
       "    }\n",
       "</style>\n",
       "<table border=\"1\" class=\"dataframe\">\n",
       "  <thead>\n",
       "    <tr style=\"text-align: right;\">\n",
       "      <th></th>\n",
       "      <th>order_id</th>\n",
       "      <th>shop_id</th>\n",
       "      <th>user_id</th>\n",
       "      <th>order_amount</th>\n",
       "      <th>total_items</th>\n",
       "      <th>payment_method</th>\n",
       "      <th>created_at</th>\n",
       "    </tr>\n",
       "  </thead>\n",
       "  <tbody>\n",
       "    <tr>\n",
       "      <th>0</th>\n",
       "      <td>1</td>\n",
       "      <td>53</td>\n",
       "      <td>746</td>\n",
       "      <td>224</td>\n",
       "      <td>2</td>\n",
       "      <td>cash</td>\n",
       "      <td>2017-03-13 12:36:56</td>\n",
       "    </tr>\n",
       "    <tr>\n",
       "      <th>1</th>\n",
       "      <td>2</td>\n",
       "      <td>92</td>\n",
       "      <td>925</td>\n",
       "      <td>90</td>\n",
       "      <td>1</td>\n",
       "      <td>cash</td>\n",
       "      <td>2017-03-03 17:38:52</td>\n",
       "    </tr>\n",
       "    <tr>\n",
       "      <th>2</th>\n",
       "      <td>3</td>\n",
       "      <td>44</td>\n",
       "      <td>861</td>\n",
       "      <td>144</td>\n",
       "      <td>1</td>\n",
       "      <td>cash</td>\n",
       "      <td>2017-03-14 4:23:56</td>\n",
       "    </tr>\n",
       "    <tr>\n",
       "      <th>3</th>\n",
       "      <td>4</td>\n",
       "      <td>18</td>\n",
       "      <td>935</td>\n",
       "      <td>156</td>\n",
       "      <td>1</td>\n",
       "      <td>credit_card</td>\n",
       "      <td>2017-03-26 12:43:37</td>\n",
       "    </tr>\n",
       "    <tr>\n",
       "      <th>4</th>\n",
       "      <td>5</td>\n",
       "      <td>18</td>\n",
       "      <td>883</td>\n",
       "      <td>156</td>\n",
       "      <td>1</td>\n",
       "      <td>credit_card</td>\n",
       "      <td>2017-03-01 4:35:11</td>\n",
       "    </tr>\n",
       "  </tbody>\n",
       "</table>\n",
       "</div>"
      ],
      "text/plain": [
       "   order_id  shop_id  user_id  order_amount  total_items payment_method  \\\n",
       "0         1       53      746           224            2           cash   \n",
       "1         2       92      925            90            1           cash   \n",
       "2         3       44      861           144            1           cash   \n",
       "3         4       18      935           156            1    credit_card   \n",
       "4         5       18      883           156            1    credit_card   \n",
       "\n",
       "            created_at  \n",
       "0  2017-03-13 12:36:56  \n",
       "1  2017-03-03 17:38:52  \n",
       "2   2017-03-14 4:23:56  \n",
       "3  2017-03-26 12:43:37  \n",
       "4   2017-03-01 4:35:11  "
      ]
     },
     "execution_count": 3,
     "metadata": {},
     "output_type": "execute_result"
    }
   ],
   "source": [
    "df.head()"
   ]
  },
  {
   "cell_type": "code",
   "execution_count": 47,
   "id": "28b1d1e2",
   "metadata": {},
   "outputs": [
    {
     "data": {
      "text/plain": [
       "count      5000.000000\n",
       "mean       3145.128000\n",
       "std       41282.539349\n",
       "min          90.000000\n",
       "25%         163.000000\n",
       "50%         284.000000\n",
       "75%         390.000000\n",
       "max      704000.000000\n",
       "Name: order_amount, dtype: float64"
      ]
     },
     "execution_count": 47,
     "metadata": {},
     "output_type": "execute_result"
    }
   ],
   "source": [
    "df.describe()['order_amount']"
   ]
  },
  {
   "cell_type": "code",
   "execution_count": 46,
   "id": "76844aed",
   "metadata": {},
   "outputs": [
    {
     "name": "stdout",
     "output_type": "stream",
     "text": [
      "Highest order amount is 704000\n",
      "Lowest order amount is 90\n",
      "Average order amount is 3145.13\n",
      "Variance in order amount is 1704248055.0842326\n",
      "Standard deviation in order amount is 41282.54\n"
     ]
    }
   ],
   "source": [
    "print(f\"Highest order amount is {df['order_amount'].max()}\")\n",
    "print(f\"Lowest order amount is {df['order_amount'].min()}\")\n",
    "print(f\"Average order amount is {df['order_amount'].mean():.2f}\")\n",
    "print(f\"Variance in order amount is {df['order_amount'].var()}\")\n",
    "print(f\"Standard deviation in order amount is {df['order_amount'].std():.2f}\")"
   ]
  },
  {
   "cell_type": "markdown",
   "id": "351d8aef",
   "metadata": {},
   "source": [
    "# Variance and standard deviation is way too high. So the mean here is not correct"
   ]
  },
  {
   "cell_type": "code",
   "execution_count": 73,
   "id": "5340cfcc",
   "metadata": {},
   "outputs": [
    {
     "data": {
      "text/plain": [
       "<AxesSubplot:xlabel='order_amount'>"
      ]
     },
     "execution_count": 73,
     "metadata": {},
     "output_type": "execute_result"
    },
    {
     "data": {
      "image/png": "[encoded data removed]",
      "text/plain": [
       "<Figure size 432x288 with 1 Axes>"
      ]
     },
     "metadata": {
      "needs_background": "light"
     },
     "output_type": "display_data"
    }
   ],
   "source": [
    "sns.boxplot(x=np.log(df['order_amount']))"
   ]
  },
  {
   "cell_type": "code",
   "execution_count": 74,
   "id": "274b4771",
   "metadata": {},
   "outputs": [
    {
     "data": {
      "text/plain": [
       "<AxesSubplot:xlabel='order_amount'>"
      ]
     },
     "execution_count": 74,
     "metadata": {},
     "output_type": "execute_result"
    },
    {
     "data": {
      "image/png": "[encoded data removed]",
      "text/plain": [
       "<Figure size 432x288 with 1 Axes>"
      ]
     },
     "metadata": {
      "needs_background": "light"
     },
     "output_type": "display_data"
    }
   ],
   "source": [
    "sns.boxplot(x=df['order_amount'])"
   ]
  },
  {
   "cell_type": "markdown",
   "id": "4dec9a92",
   "metadata": {},
   "source": [
    "## We have 5000 data"
   ]
  },
  {
   "cell_type": "code",
   "execution_count": 6,
   "id": "9be47460",
   "metadata": {},
   "outputs": [
    {
     "data": {
      "text/plain": [
       "<AxesSubplot:ylabel='Frequency'>"
      ]
     },
     "execution_count": 6,
     "metadata": {},
     "output_type": "execute_result"
    },
    {
     "data": {
      "image/png": "[encoded data removed]",
      "text/plain": [
       "<Figure size 432x288 with 1 Axes>"
      ]
     },
     "metadata": {
      "needs_background": "light"
     },
     "output_type": "display_data"
    }
   ],
   "source": [
    "df['order_amount'].plot.hist(bins=3)"
   ]
  },
  {
   "cell_type": "code",
   "execution_count": 7,
   "id": "d21222dd",
   "metadata": {},
   "outputs": [
    {
     "data": {
      "text/plain": [
       "<AxesSubplot:ylabel='Density'>"
      ]
     },
     "execution_count": 7,
     "metadata": {},
     "output_type": "execute_result"
    },
    {
     "data": {
      "image/png": "[encoded data removed]",
      "text/plain": [
       "<Figure size 432x288 with 1 Axes>"
      ]
     },
     "metadata": {
      "needs_background": "light"
     },
     "output_type": "display_data"
    }
   ],
   "source": [
    "df['order_amount'].plot.kde()"
   ]
  },
  {
   "cell_type": "code",
   "execution_count": 8,
   "id": "cdfee32b",
   "metadata": {},
   "outputs": [
    {
     "data": {
      "text/plain": [
       "<AxesSubplot:>"
      ]
     },
     "execution_count": 8,
     "metadata": {},
     "output_type": "execute_result"
    },
    {
     "data": {
      "image/png": "[encoded data removed]",
      "text/plain": [
       "<Figure size 432x288 with 1 Axes>"
      ]
     },
     "metadata": {
      "needs_background": "light"
     },
     "output_type": "display_data"
    }
   ],
   "source": [
    "df.boxplot(column=['order_amount'])"
   ]
  },
  {
   "cell_type": "code",
   "execution_count": 75,
   "id": "3ea30e24",
   "metadata": {},
   "outputs": [
    {
     "data": {
      "image/png": "[encoded data removed]",
      "text/plain": [
       "<Figure size 432x288 with 1 Axes>"
      ]
     },
     "metadata": {},
     "output_type": "display_data"
    }
   ],
   "source": [
    "\n",
    "labels = 'Order amount less than 26000', 'Order amount greater than 26000'\n",
    "sizes = [df[df['order_amount']<26000]['order_amount'].count(), df[(df['order_amount']>26000)]['order_amount'].count()]\n",
    "explode = (0, 0.2) \n",
    "\n",
    "fig1, ax1 = plt.subplots()\n",
    "ax1.pie(sizes, explode=explode, labels=labels, autopct='%5.1f%%',\n",
    "        shadow=True, startangle=90)\n",
    "ax1.axis('equal') \n",
    "\n",
    "plt.show()"
   ]
  },
  {
   "cell_type": "markdown",
   "id": "fc87d9f7",
   "metadata": {},
   "source": [
    "# Outliers detected!! "
   ]
  },
  {
   "cell_type": "code",
   "execution_count": 96,
   "id": "1fee4d29",
   "metadata": {},
   "outputs": [
    {
     "name": "stdout",
     "output_type": "stream",
     "text": [
      "           Statistics of the outliers\n",
      "============================================\n",
      "Highest order (value >$26000) amount is 704000\n",
      "Lowest order (value >$26000) amount is 51450\n",
      "Average order (value >$26000) amount is 312341.48\n",
      "Standard deviation for order (value >$26000) is 314876.32\n",
      "Number of order amount greater than $26000 is 44\n"
     ]
    }
   ],
   "source": [
    "print(\"           Statistics of the outliers\")\n",
    "print(\"============================================\")\n",
    "print(f\"Highest order (value >$26000) amount is {df[df['order_amount']>26000]['order_amount'].max()}\")\n",
    "print(f\"Lowest order (value >$26000) amount is {df[df['order_amount']>26000]['order_amount'].min()}\")\n",
    "print(f\"Average order (value >$26000) amount is {df[df['order_amount']>26000]['order_amount'].mean():.2f}\")\n",
    "print(f\"Standard deviation for order (value >$26000) is {df[df['order_amount']>26000]['order_amount'].std():.2f}\")\n",
    "print(f\"Number of order amount greater than $26000 is {df[df['order_amount']>26000]['order_amount'].count()}\")"
   ]
  },
  {
   "cell_type": "code",
   "execution_count": 100,
   "id": "39041def",
   "metadata": {},
   "outputs": [
    {
     "data": {
      "text/plain": [
       "count        44.000000\n",
       "mean     312341.477273\n",
       "std      314876.316339\n",
       "min       51450.000000\n",
       "25%       51450.000000\n",
       "50%       77175.000000\n",
       "75%      704000.000000\n",
       "max      704000.000000\n",
       "Name: order_amount, dtype: float64"
      ]
     },
     "execution_count": 100,
     "metadata": {},
     "output_type": "execute_result"
    }
   ],
   "source": [
    "df[df['order_amount']>26000].describe()['order_amount']"
   ]
  },
  {
   "cell_type": "markdown",
   "id": "55eb13be",
   "metadata": {},
   "source": [
    "## Outliers and their number in the dataset"
   ]
  },
  {
   "cell_type": "code",
   "execution_count": 61,
   "id": "c465b3bc",
   "metadata": {},
   "outputs": [
    {
     "data": {
      "text/plain": [
       "order_amount\n",
       "51450     16\n",
       "77175      9\n",
       "102900     1\n",
       "154350     1\n",
       "704000    17\n",
       "Name: order_id, dtype: int64"
      ]
     },
     "execution_count": 61,
     "metadata": {},
     "output_type": "execute_result"
    }
   ],
   "source": [
    "df[df['order_amount']>30000].groupby(['order_amount']).count()['order_id']"
   ]
  },
  {
   "cell_type": "markdown",
   "id": "f3d62036",
   "metadata": {},
   "source": [
    "## statistics of the data having order values less than 26000"
   ]
  },
  {
   "cell_type": "code",
   "execution_count": 98,
   "id": "fe8794e5",
   "metadata": {},
   "outputs": [
    {
     "name": "stdout",
     "output_type": "stream",
     "text": [
      "Highest order (value <$26000) amount is 25725\n",
      "Lowest order (value <$26000) amount is 90\n",
      "Average order (value <$26000) amount is 400.04\n",
      "Standard deviation for order (value <$26000) is 1579.40\n",
      "Number of order amount less than $26000 is 4956\n"
     ]
    }
   ],
   "source": [
    "print(f\"Highest order (value <$26000) amount is {df[df['order_amount']<26000]['order_amount'].max()}\")\n",
    "print(f\"Lowest order (value <$26000) amount is {df[df['order_amount']<26000]['order_amount'].min()}\")\n",
    "print(f\"Average order (value <$26000) amount is {df[df['order_amount']<26000]['order_amount'].mean():.2f}\")\n",
    "print(f\"Standard deviation for order (value <$26000) is {df[df['order_amount']<26000]['order_amount'].std():.2f}\")\n",
    "print(f\"Number of order amount less than $26000 is {df[df['order_amount']<26000]['order_amount'].count()}\")"
   ]
  },
  {
   "cell_type": "code",
   "execution_count": 101,
   "id": "453c18e0",
   "metadata": {},
   "outputs": [
    {
     "data": {
      "text/plain": [
       "count     4956.000000\n",
       "mean       400.043382\n",
       "std       1579.398646\n",
       "min         90.000000\n",
       "25%        163.000000\n",
       "50%        284.000000\n",
       "75%        390.000000\n",
       "max      25725.000000\n",
       "Name: order_amount, dtype: float64"
      ]
     },
     "execution_count": 101,
     "metadata": {},
     "output_type": "execute_result"
    }
   ],
   "source": [
    "df[df['order_amount']<26000].describe()['order_amount']"
   ]
  },
  {
   "cell_type": "code",
   "execution_count": 88,
   "id": "335695c8",
   "metadata": {},
   "outputs": [
    {
     "name": "stderr",
     "output_type": "stream",
     "text": [
      "C:\\Users\\gmash\\AppData\\Local\\Programs\\Python\\Python39\\lib\\site-packages\\seaborn\\distributions.py:2619: FutureWarning: `distplot` is a deprecated function and will be removed in a future version. Please adapt your code to use either `displot` (a figure-level function with similar flexibility) or `histplot` (an axes-level function for histograms).\n",
      "  warnings.warn(msg, FutureWarning)\n"
     ]
    },
    {
     "data": {
      "text/plain": [
       "<AxesSubplot:xlabel='unit_amt', ylabel='Density'>"
      ]
     },
     "execution_count": 88,
     "metadata": {},
     "output_type": "execute_result"
    },
    {
     "data": {
      "image/png": "[encoded data removed]",
      "text/plain": [
       "<Figure size 432x288 with 1 Axes>"
      ]
     },
     "metadata": {
      "needs_background": "light"
     },
     "output_type": "display_data"
    }
   ],
   "source": [
    "sns.distplot(df[df['order_amount']>26000]['unit_amt'], kde=True)"
   ]
  },
  {
   "cell_type": "code",
   "execution_count": 93,
   "id": "3e9052c2",
   "metadata": {},
   "outputs": [
    {
     "name": "stderr",
     "output_type": "stream",
     "text": [
      "C:\\Users\\gmash\\AppData\\Local\\Programs\\Python\\Python39\\lib\\site-packages\\seaborn\\distributions.py:2619: FutureWarning: `distplot` is a deprecated function and will be removed in a future version. Please adapt your code to use either `displot` (a figure-level function with similar flexibility) or `histplot` (an axes-level function for histograms).\n",
      "  warnings.warn(msg, FutureWarning)\n"
     ]
    },
    {
     "data": {
      "text/plain": [
       "<AxesSubplot:xlabel='unit_amt'>"
      ]
     },
     "execution_count": 93,
     "metadata": {},
     "output_type": "execute_result"
    },
    {
     "data": {
      "image/png": "[encoded data removed]",
      "text/plain": [
       "<Figure size 432x288 with 1 Axes>"
      ]
     },
     "metadata": {
      "needs_background": "light"
     },
     "output_type": "display_data"
    }
   ],
   "source": [
    "sns.distplot(df[df['order_amount']>26000]['unit_amt'],fit=norm ,kde=False)"
   ]
  },
  {
   "cell_type": "markdown",
   "id": "0ecd066d",
   "metadata": {
    "scrolled": true
   },
   "source": [
    "# Question 2: \n",
    "For this question you’ll need to use SQL. Follow this link to access the data set required for the challenge. Please use queries to answer the following questions. Paste your queries along with your final numerical answers below.\n",
    " ### 2 (a) How many orders were shipped by Speedy Express in total? \n",
    " ### Answer: 54\n",
    " ### Query:\n",
    " ### SELECT COUNT(*) as Total_from_speedy_express FROM Orders group by ShipperID having ShipperID=   (SELECT ShipperID FROM Shippers  WHERE ShipperName='Speedy Express');"
   ]
  },
  {
   "cell_type": "markdown",
   "id": "10615232",
   "metadata": {},
   "source": [
    " ### 2 (b) \tWhat is the last name of the employee with the most orders?\n",
    " ### Answer: Peacock\n",
    " ### Query:\n",
    " ### SELECT LastName FROM Employees WHERE EmployeeID=(SELECT EmployeeID FROM [Orders] GROUP BY EmployeeID ORDER BY COUNT(*) DESC LIMIT 1)"
   ]
  },
  {
   "cell_type": "markdown",
   "id": "e66b698b",
   "metadata": {},
   "source": [
    " ### 2 (c) \tWhat product was ordered the most by customers in Germany?\n",
    " ### Answer: Boston Crab Meat\n",
    " ### Query:\n",
    " ### SELECT ProductName AS Most_Ordered_Product_from_Germany FROM OrderDetails o join Products p on o.ProductID=p.ProductID join orders on o.OrderID=orders.OrderID join customers on orders.CustomerID=customers.CustomerID Group by o.ProductID having Country='Germany' ORDER BY SUM(Quantity) DESC limit 1;\n"
   ]
  },
  {
   "cell_type": "code",
   "execution_count": null,
   "id": "caf5a684",
   "metadata": {},
   "outputs": [],
   "source": []
  }
 ],
 "metadata": {
  "kernelspec": {
   "display_name": "Python 3 (ipykernel)",
   "language": "python",
   "name": "python3"
  },
  "language_info": {
   "codemirror_mode": {
    "name": "ipython",
    "version": 3
   },
   "file_extension": ".py",
   "mimetype": "text/x-python",
   "name": "python",
   "nbconvert_exporter": "python",
   "pygments_lexer": "ipython3",
   "version": "3.9.7"
  }
 },
 "nbformat": 4,
 "nbformat_minor": 5
}
